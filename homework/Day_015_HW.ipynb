{
 "cells": [
  {
   "cell_type": "markdown",
   "metadata": {},
   "source": [
    "## 作業\n",
    "1. 請用 numpy 建立一個 10 x 10, 數值分布自 -1.0 ~ 1.0 的矩陣並繪製 Heatmap\n",
    "2. 請用 numpy 建立一個 1000 x 3, 數值分布為 -1.0 ~ 1.0 的矩陣，並繪製 PairPlot (上半部為 scatter, 對角線為 hist, 下半部為 density)\n",
    "3. 請用 numpy 建立一個 1000 x 3, 數值分布為常態分佈的矩陣，並繪製 PairPlot (上半部為 scatter, 對角線為 hist, 下半部為 density)"
   ]
  },
  {
   "cell_type": "code",
   "execution_count": null,
   "metadata": {},
   "outputs": [],
   "source": [
    "# Import 需要的套件\n",
    "import os\n",
    "import numpy as np\n",
    "import pandas as pd\n",
    "import matplotlib.pyplot as plt\n",
    "import seaborn as sns # 另一個繪圖-樣式套件\n",
    "plt.style.use('ggplot')\n",
    "\n",
    "%matplotlib inline\n",
    "\n",
    "import warnings\n",
    "warnings.filterwarnings('ignore')"
   ]
  },
  {
   "cell_type": "code",
   "execution_count": null,
   "metadata": {},
   "outputs": [],
   "source": [
    "\"\"\"\n",
    "Your Code Here\n",
    "\"\"\"\n",
    "matrix = \n",
    "\n",
    "plt.figure(figsize=(10,10))\n",
    "\"\"\"\n",
    "Your Code Here\n",
    "\"\"\"\n",
    "heatmap = \n",
    "\n",
    "plt.show()"
   ]
  },
  {
   "cell_type": "code",
   "execution_count": null,
   "metadata": {},
   "outputs": [],
   "source": [
    "nrow = 1000\n",
    "ncol = 3\n",
    "\"\"\"\n",
    "Your Code Here\n",
    "\"\"\"\n",
    "matrix = \n",
    "\n",
    "indice = np.random.choice([0,1,2], size=nrow)\n",
    "plot_data = pd.DataFrame(matrix, indice)\n",
    "\n",
    "\n",
    "grid = sns.PairGrid(data = plot_data, size = 3, diag_sharey=False)\n",
    "\"\"\"\n",
    "Your Code Here\n",
    "Please replace \"...\" to correct plot function\n",
    "\"\"\"\n",
    "grid.map_upper(... , alpha = 0.2)\n",
    "grid.map_diag(... )\n",
    "grid.map_lower(... , cmap = plt.cm.OrRd_r)\n",
    "\n",
    "plt.show()"
   ]
  },
  {
   "cell_type": "code",
   "execution_count": null,
   "metadata": {},
   "outputs": [],
   "source": [
    "nrow = 1000\n",
    "ncol = 3\n",
    "\"\"\"\n",
    "Your Code Here\n",
    "\"\"\"\n",
    "matrix = \n",
    "\n",
    "indice = np.random.choice([0,1,2], size=nrow)\n",
    "plot_data = pd.DataFrame(matrix, indice)\n",
    "\n",
    "\n",
    "grid = sns.PairGrid(data = plot_data, size = 3, diag_sharey=False)\n",
    "\"\"\"\n",
    "Your Code Here\n",
    "Please replace \"...\" to correct plot function\n",
    "\"\"\"\n",
    "grid.map_upper(... , alpha = 0.2)\n",
    "grid.map_diag(... )\n",
    "grid.map_lower(... , cmap = plt.cm.OrRd_r)\n",
    "\n",
    "plt.show()"
   ]
  }
 ],
 "metadata": {
  "anaconda-cloud": {},
  "kernelspec": {
   "display_name": "Python [default]",
   "language": "python",
   "name": "python3"
  },
  "language_info": {
   "codemirror_mode": {
    "name": "ipython",
    "version": 3
   },
   "file_extension": ".py",
   "mimetype": "text/x-python",
   "name": "python",
   "nbconvert_exporter": "python",
   "pygments_lexer": "ipython3",
   "version": "3.5.6"
  }
 },
 "nbformat": 4,
 "nbformat_minor": 1
}
